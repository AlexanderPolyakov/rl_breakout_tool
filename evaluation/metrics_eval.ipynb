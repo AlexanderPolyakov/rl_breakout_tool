{
 "cells": [
  {
   "cell_type": "code",
   "execution_count": null,
   "id": "895b002c",
   "metadata": {},
   "outputs": [],
   "source": [
    "import matplotlib.pyplot as plt\n",
    "import numpy as np"
   ]
  },
  {
   "cell_type": "code",
   "execution_count": null,
   "id": "17bb1cbe",
   "metadata": {},
   "outputs": [],
   "source": [
    "import json\n",
    "import math\n",
    "import os"
   ]
  },
  {
   "cell_type": "code",
   "execution_count": null,
   "id": "dc52e4ae",
   "metadata": {},
   "outputs": [],
   "source": [
    "def proc_metrics(fname, time_limit):\n",
    "    with open(fname, \"r\") as f:\n",
    "        metrics = json.load(f)\n",
    "        # skip nans in reward, they're not useful\n",
    "        time = [i[\"time\"] / 3600 for i in metrics if not math.isnan(i[\"mean_reward\"]) and i[\"time\"] < time_limit]\n",
    "        score = [i[\"mean_reward\"] for i in metrics if not math.isnan(i[\"mean_reward\"]) and i[\"time\"] < time_limit]\n",
    "        return time, score"
   ]
  },
  {
   "cell_type": "code",
   "execution_count": null,
   "id": "751d57dc",
   "metadata": {},
   "outputs": [],
   "source": [
    "def evaluate_metrics(fnames, time_limit=100*3600):\n",
    "    metrics = []\n",
    "    for fname in fnames:\n",
    "        time, score = proc_metrics(fname, time_limit)\n",
    "        metrics.append({\"time\": time, \"score\": score, \"label\": fname})\n",
    "    fig, ax = plt.subplots(figsize=(15, 10))\n",
    "    for metric in metrics:\n",
    "        score = metric[\"score\"]\n",
    "        time = metric[\"time\"]\n",
    "        window = 50\n",
    "        rolling_avg_score = [np.average(score[max(i-window, 0):i+1]) for i in range(len(score))]\n",
    "        ax.plot(time, rolling_avg_score, label = metric[\"label\"])\n",
    "    ax.legend()\n",
    "    plt.show()"
   ]
  },
  {
   "cell_type": "code",
   "execution_count": null,
   "id": "c3881baa",
   "metadata": {
    "scrolled": false
   },
   "outputs": [],
   "source": [
    "filenames = []\n",
    "for root, dirs, files in os.walk(\"metrics\"):\n",
    "    for file in files:\n",
    "        filenames.append(os.path.join(root, file))\n",
    "evaluate_metrics(filenames)\n"
   ]
  },
  {
   "cell_type": "code",
   "execution_count": null,
   "id": "e637bf12",
   "metadata": {},
   "outputs": [],
   "source": [
    "filenames = [\"metrics/a3c_no_lstm.json\", \"metrics/a3c_no_lstm_resume.json\"]\n",
    "evaluate_metrics(filenames)"
   ]
  },
  {
   "cell_type": "code",
   "execution_count": null,
   "id": "94672699",
   "metadata": {},
   "outputs": [],
   "source": [
    "filenames = [\"metrics/bwall_v3.json\"]\n",
    "evaluate_metrics(filenames)"
   ]
  },
  {
   "cell_type": "code",
   "execution_count": null,
   "id": "7cd9bf60",
   "metadata": {},
   "outputs": [],
   "source": [
    "filenames = [\"metrics/a3c_v1.json\"]\n",
    "evaluate_metrics(filenames)"
   ]
  },
  {
   "cell_type": "code",
   "execution_count": null,
   "id": "cb48d9b7",
   "metadata": {
    "scrolled": false
   },
   "outputs": [],
   "source": [
    "filenames = [\"metrics/a3c_v1.json\", \"metrics/bwall_v3.json\"]\n",
    "evaluate_metrics(filenames, time_limit=24*3600)"
   ]
  },
  {
   "cell_type": "code",
   "execution_count": null,
   "id": "4ce6475c",
   "metadata": {},
   "outputs": [],
   "source": [
    "filenames = [\"metrics/a3c_v1.json\", \"metrics/a3c_no_lstm_linux.json\"]\n",
    "evaluate_metrics(filenames, time_limit=15*3600)"
   ]
  },
  {
   "cell_type": "code",
   "execution_count": null,
   "id": "5e8ea84c",
   "metadata": {},
   "outputs": [],
   "source": [
    "filenames = [\"metrics/a3c_v1.json\", \"metrics/a3c_no_lstm_linux.json\", \"metrics/bwall_v3.json\"]\n",
    "evaluate_metrics(filenames, time_limit=15*3600)"
   ]
  },
  {
   "cell_type": "code",
   "execution_count": null,
   "id": "07d48624",
   "metadata": {},
   "outputs": [],
   "source": [
    "times = [19.99384117126465, 595.6207020282745, 74.46214199066162, 369.9341518878937, 22.328187942504883, 18.837465047836304, 196.00862002372742, 76.93926095962524, 283.1295199394226, 142.90455293655396, 282.8991630077362, 44.323909282684326, 150.43999314308167, 91.30680894851685, 498.6042101383209, 105.79438996315002, 106.34067010879517, 204.1150221824646, 11.12814712524414, 12.658950328826904, 182.8907709121704, 152.2790551185608, 11.967450857162476, 16.390775203704834, 375.2510039806366]\n",
    "print(\"mean = \", np.mean(times), \"std = \", np.std(times), \"min = \", np.min(times), \"max = \", np.max(times))"
   ]
  },
  {
   "cell_type": "code",
   "execution_count": null,
   "id": "f4a7af88",
   "metadata": {},
   "outputs": [],
   "source": []
  }
 ],
 "metadata": {
  "kernelspec": {
   "display_name": "Python 3 (ipykernel)",
   "language": "python",
   "name": "python3"
  },
  "language_info": {
   "codemirror_mode": {
    "name": "ipython",
    "version": 3
   },
   "file_extension": ".py",
   "mimetype": "text/x-python",
   "name": "python",
   "nbconvert_exporter": "python",
   "pygments_lexer": "ipython3",
   "version": "3.10.9"
  }
 },
 "nbformat": 4,
 "nbformat_minor": 5
}
